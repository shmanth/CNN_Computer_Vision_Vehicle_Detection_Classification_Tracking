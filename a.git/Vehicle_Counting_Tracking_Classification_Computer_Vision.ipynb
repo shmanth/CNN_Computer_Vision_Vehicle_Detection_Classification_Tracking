{
  "cells": [
    {
      "cell_type": "code",
      "execution_count": null,
      "metadata": {
        "colab": {
          "background_save": true
        },
        "id": "lVVZlWCAIN97"
      },
      "outputs": [],
      "source": [
        "# Importing necessary libraries\n",
        "import cv2\n",
        "import math\n",
        "import matplotlib.pyplot as plt\n",
        "%matplotlib inline\n",
        "import sys"
      ]
    },
    {
      "cell_type": "code",
      "execution_count": null,
      "metadata": {
        "colab": {
          "background_save": true
        },
        "id": "Pmh10hKKTaGu"
      },
      "outputs": [],
      "source": [
        "# Defining colors\n",
        "scalar_black = (0.0, 0.0, 0.0)\n",
        "scalar_white = (255.0, 255.0, 255.0)\n",
        "scalar_red = (0.0, 0.0, 255.0)\n",
        "scalar_green = (0.0, 255.0, 0.0)\n",
        "scalar_yellow = (0.0, 255.0, 255.0)\n",
        "scalar_cyan = (255.0, 255.0, 0)"
      ]
    },
    {
      "cell_type": "code",
      "execution_count": null,
      "metadata": {
        "colab": {
          "background_save": true
        },
        "id": "P55q3bgoTY6N"
      },
      "outputs": [],
      "source": [
        "def plot_image(images, captions= None, cmap= None):\n",
        "  f, ax = plt.subplots(1, len(images), sharey= True )\n",
        "  f.set_figwidth(16)\n",
        "  for f, ax, image, caption in zip(f, ax, images, captions):\n",
        "    ax.imshow(image, cmap)\n",
        "    ax.set_title(caption)"
      ]
    },
    {
      "cell_type": "code",
      "execution_count": null,
      "metadata": {
        "colab": {
          "background_save": true,
          "base_uri": "https://localhost:8080/",
          "height": 183
        },
        "id": "j6qxQ7OYI7mY",
        "outputId": "87abcb53-f3a8-45d7-e8ad-c78abafae74e"
      },
      "outputs": [
        {
          "ename": "AttributeError",
          "evalue": "module 'cv2' has no attribute 'Video_Capture'",
          "output_type": "error",
          "traceback": [
            "\u001b[0;31m---------------------------------------------------------------------------\u001b[0m",
            "\u001b[0;31mAttributeError\u001b[0m                            Traceback (most recent call last)",
            "\u001b[0;32m<ipython-input-9-822693af43f9>\u001b[0m in \u001b[0;36m<cell line: 3>\u001b[0;34m()\u001b[0m\n\u001b[1;32m      1\u001b[0m \u001b[0mshow_debug_steps\u001b[0m \u001b[0;34m=\u001b[0m \u001b[0;32mTrue\u001b[0m\u001b[0;34m\u001b[0m\u001b[0;34m\u001b[0m\u001b[0m\n\u001b[1;32m      2\u001b[0m \u001b[0;34m\u001b[0m\u001b[0m\n\u001b[0;32m----> 3\u001b[0;31m \u001b[0mcap\u001b[0m\u001b[0;34m=\u001b[0m \u001b[0mcv2\u001b[0m\u001b[0;34m.\u001b[0m\u001b[0mVideo_Capture\u001b[0m\u001b[0;34m(\u001b[0m\u001b[0;34m\"https://drive.google.com/file/d/1HxxhIf4dM7VILIb5-dR3qXDbeGPOLgv-/view\"\u001b[0m\u001b[0;34m)\u001b[0m\u001b[0;34m\u001b[0m\u001b[0;34m\u001b[0m\u001b[0m\n\u001b[0m",
            "\u001b[0;31mAttributeError\u001b[0m: module 'cv2' has no attribute 'Video_Capture'"
          ]
        }
      ],
      "source": [
        "show_debug_steps = True\n",
        "\n",
        "cap= cv2.Video_Capture(\"https://drive.google.com/file/d/1HxxhIf4dM7VILIb5-dR3qXDbeGPOLgv-/view\")"
      ]
    },
    {
      "cell_type": "code",
      "execution_count": null,
      "metadata": {
        "colab": {
          "background_save": true
        },
        "id": "TOCs4E1EI8_n"
      },
      "outputs": [],
      "source": [
        "np.random.rand(1)"
      ]
    },
    {
      "cell_type": "code",
      "execution_count": null,
      "metadata": {
        "colab": {
          "background_save": true
        },
        "id": "fgTTAwwKI9BW"
      },
      "outputs": [],
      "source": []
    },
    {
      "cell_type": "code",
      "execution_count": null,
      "metadata": {
        "id": "0FTDZHzpI9EB"
      },
      "outputs": [],
      "source": []
    },
    {
      "cell_type": "code",
      "execution_count": null,
      "metadata": {
        "id": "of7JUdiyI9He"
      },
      "outputs": [],
      "source": []
    }
  ],
  "metadata": {
    "colab": {
      "provenance": []
    },
    "kernelspec": {
      "display_name": "Python 3",
      "name": "python3"
    },
    "language_info": {
      "name": "python"
    }
  },
  "nbformat": 4,
  "nbformat_minor": 0
}